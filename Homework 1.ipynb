{
 "cells": [
  {
   "cell_type": "markdown",
   "metadata": {
    "collapsed": false
   },
   "source": [
    "## Instructions\n",
    "\n",
    "1. Answer the questions below by writing your code in this Jupyter notebook.  All exercises are from the Deitel text.\n",
    "2. You must document assistance in accordance with _Documentation of Academic Work_ .  **Submit a cover sheet and documentation by saving your documentation to a pdf and placing it inside the folder for this homework.**\n",
    "\n",
    "25 points\n",
    "\n"
   ]
  },
  {
   "cell_type": "markdown",
   "metadata": {
    "collapsed": false
   },
   "source": [
    "#### Exercise 1.1"
   ]
  },
  {
   "cell_type": "code",
   "execution_count": 13,
   "metadata": {
    "collapsed": false,
    "ExecuteTime": {
     "end_time": "2023-08-24T01:08:42.210093200Z",
     "start_time": "2023-08-24T01:08:42.023530400Z"
    }
   },
   "outputs": [
    {
     "name": "stdout",
     "output_type": "stream",
     "text": [
      "3.3333333333333335\n",
      "3\n",
      "0.0\n",
      "0\n"
     ]
    }
   ],
   "source": [
    "# insert your code here\n",
    "x = 10\n",
    "y = 3\n",
    "z = 0\n",
    "\n",
    "print(x/y)\n",
    "print(x//y)\n",
    "## print(x/z) runtime error because num/0 is invalid\n",
    "## print(x//z) runtime error because num//0 is invalid\n",
    "print(z/x)\n",
    "print(z//x)"
   ]
  },
  {
   "cell_type": "markdown",
   "metadata": {
    "collapsed": false
   },
   "source": [
    "#### Exercise 1.2"
   ]
  },
  {
   "cell_type": "code",
   "execution_count": 14,
   "metadata": {
    "collapsed": false,
    "ExecuteTime": {
     "end_time": "2023-08-24T01:08:42.212143100Z",
     "start_time": "2023-08-24T01:08:42.047303600Z"
    }
   },
   "outputs": [
    {
     "name": "stdout",
     "output_type": "stream",
     "text": [
      "10.333333333333334\n",
      "10\n",
      "1.0\n"
     ]
    }
   ],
   "source": [
    "# insert your code here\n",
    "x = 10\n",
    "y = 3\n",
    "z = 7\n",
    "\n",
    "print(x / y + z)\n",
    "print(x // y + z)\n",
    "print(x / (y + z))\n",
    "#print(x / y - y) runtime error because num//0 is invalid\n",
    "#print(x / (y - y)) runtime error because num//0 is invalid\n",
    "#print(x // (y - y))  runtime error because num//0 is invalid"
   ]
  },
  {
   "cell_type": "markdown",
   "metadata": {
    "collapsed": false
   },
   "source": [
    "#### Exercise 2.1"
   ]
  },
  {
   "cell_type": "code",
   "execution_count": 15,
   "metadata": {
    "collapsed": false,
    "ExecuteTime": {
     "end_time": "2023-08-24T01:08:42.254129900Z",
     "start_time": "2023-08-24T01:08:42.057610200Z"
    }
   },
   "outputs": [
    {
     "name": "stdout",
     "output_type": "stream",
     "text": [
      "x = 2\n",
      "Value of 2 + 2 is 4\n",
      "x =\n",
      "5 = 5\n"
     ]
    }
   ],
   "source": [
    "# insert your code here\n",
    "x = 2\n",
    "y = 3\n",
    "\n",
    "print('x =', x) # x = 2\n",
    "print('Value of', x, '+', x, 'is', (x + x)) # Value of 2 + 2 is 4\n",
    "print('x =') # x =\n",
    "print((x + y), '=', (y + x)) # 5 = 5"
   ]
  },
  {
   "cell_type": "markdown",
   "metadata": {
    "collapsed": false
   },
   "source": [
    "#### Exercise 2.6"
   ]
  },
  {
   "cell_type": "code",
   "execution_count": 16,
   "metadata": {
    "collapsed": false,
    "ExecuteTime": {
     "end_time": "2023-08-24T01:08:42.255602500Z",
     "start_time": "2023-08-24T01:08:42.093707800Z"
    }
   },
   "outputs": [],
   "source": [
    "# insert your code here\n",
    "def evenOrOdd(num):\n",
    "    if num % 2 == 0:\n",
    "        return \"even\"\n",
    "    elif num % 2 == 1: \n",
    "        return \"odd\""
   ]
  },
  {
   "cell_type": "markdown",
   "metadata": {
    "collapsed": false
   },
   "source": [
    "#### Exercise 2.8"
   ]
  },
  {
   "cell_type": "code",
   "execution_count": 2,
   "metadata": {
    "collapsed": false,
    "ExecuteTime": {
     "end_time": "2023-08-31T04:42:29.122133600Z",
     "start_time": "2023-08-31T04:42:29.078206200Z"
    }
   },
   "outputs": [
    {
     "name": "stdout",
     "output_type": "stream",
     "text": [
      "Number\tSquare\tCube\n",
      "0\t0\t0\n",
      "1\t1\t1\n",
      "2\t4\t8\n",
      "3\t9\t27\n",
      "4\t16\t64\n",
      "5\t25\t125\n"
     ]
    }
   ],
   "source": [
    "# insert your code here\n",
    "def squaresCubes(num):\n",
    "    print(\"Number\\tSquare\\tCube\")\n",
    "    for num in range(num):\n",
    "        print(f\"{num}\\t{num**2}\\t{num**3}\")\n",
    "\n",
    "squaresCubes(6)"
   ]
  },
  {
   "cell_type": "markdown",
   "metadata": {
    "collapsed": false
   },
   "source": [
    "#### Exercise 2.11"
   ]
  },
  {
   "cell_type": "code",
   "execution_count": 3,
   "metadata": {
    "collapsed": false,
    "ExecuteTime": {
     "end_time": "2023-08-31T04:43:00.345857200Z",
     "start_time": "2023-08-31T04:42:54.397879200Z"
    }
   },
   "outputs": [
    {
     "name": "stdout",
     "output_type": "stream",
     "text": [
      "4 2 3 3 9\n"
     ]
    }
   ],
   "source": [
    "# insert your code here\n",
    "def separate():\n",
    "    new = \"\"\n",
    "    start = input(\"input a 5 digit number\")\n",
    "    while len(start) != 5:\n",
    "        start = input()\n",
    "    for i in start:\n",
    "        new = new + i + \" \" \n",
    "    print(new.rstrip())\n",
    "    \n",
    "separate()    "
   ]
  },
  {
   "cell_type": "markdown",
   "metadata": {
    "collapsed": false
   },
   "source": [
    "#### Exercise 3.5"
   ]
  },
  {
   "cell_type": "code",
   "execution_count": 19,
   "metadata": {
    "collapsed": false,
    "ExecuteTime": {
     "end_time": "2023-08-24T01:08:47.146522600Z",
     "start_time": "2023-08-24T01:08:44.676447500Z"
    }
   },
   "outputs": [
    {
     "name": "stdout",
     "output_type": "stream",
     "text": [
      "4 is not equal to 5\n",
      "4 is less than 5\n",
      "4 is less than or equal to 5\n"
     ]
    }
   ],
   "source": [
    "# insert your code here\n",
    "number1 = int(input('Enter first integer: '))\n",
    "number2 = int(input('Enter second integer: '))\n",
    "\n",
    "if number1 == number2:\n",
    "    print(number1, 'is equal to', number2)\n",
    "else:\n",
    "    print(number1, 'is not equal to', number2)\n",
    "    \n",
    "if number1 < number2:\n",
    "    print(number1, 'is less than', number2)\n",
    "else:\n",
    "    print(number1, 'is greater than', number2)\n",
    "    \n",
    "if number1 <= number2:\n",
    "    print(number1, 'is less than or equal to', number2)\n",
    "else:\n",
    "    print(number1, 'is greater than or equal to', number2)\n"
   ]
  }
 ],
 "metadata": {
  "kernelspec": {
   "argv": [
    "/usr/bin/python3",
    "-m",
    "ipykernel",
    "--HistoryManager.enabled=False",
    "--matplotlib=inline",
    "-c",
    "%config InlineBackend.figure_formats = set(['retina'])\nimport matplotlib; matplotlib.rcParams['figure.figsize'] = (12, 7)",
    "-f",
    "{connection_file}"
   ],
   "display_name": "Python 3 (system-wide)",
   "env": {},
   "language": "python",
   "metadata": {
    "cocalc": {
     "description": "Python 3 programming language",
     "priority": 100,
     "url": "https://www.python.org/"
    }
   },
   "name": "python3",
   "resource_dir": "/ext/jupyter/kernels/python3"
  },
  "language_info": {
   "codemirror_mode": {
    "name": "ipython",
    "version": 3
   },
   "file_extension": ".py",
   "mimetype": "text/x-python",
   "name": "python",
   "nbconvert_exporter": "python",
   "pygments_lexer": "ipython3",
   "version": "3.10.6"
  }
 },
 "nbformat": 4,
 "nbformat_minor": 4
}
