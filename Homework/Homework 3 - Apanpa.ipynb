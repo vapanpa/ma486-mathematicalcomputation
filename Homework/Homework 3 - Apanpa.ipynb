{
 "cells": [
  {
   "cell_type": "markdown",
   "metadata": {
    "collapsed": false
   },
   "source": [
    "### Instructions\n",
    "\n",
    "1. Answer the questions below by writing your code in this Jupyter notebook.  All exercises are from the Deitel text.\n",
    "2. You must document assistance in accordance with _Documentation of Academic Work_ .  Submit a cover sheet and documentation by saving your documentation to a pdf and placing it inside the folder for this homework.\n",
    "\n",
    "30 points\n",
    "\n"
   ]
  },
  {
   "cell_type": "markdown",
   "metadata": {
    "collapsed": false
   },
   "source": [
    "#### Exercise 5.20"
   ]
  },
  {
   "cell_type": "code",
   "execution_count": 23,
   "metadata": {
    "collapsed": false,
    "ExecuteTime": {
     "end_time": "2023-09-03T16:04:41.018702300Z",
     "start_time": "2023-09-03T16:04:40.949929700Z"
    }
   },
   "outputs": [
    {
     "name": "stdout",
     "output_type": "stream",
     "text": [
      "0\t| 1\t| 2\t| 3\t| \n",
      "-------------------\n",
      "0   | 1 | 2 | 3 | \n",
      "1   | 4 | 5 | 6 | \n",
      "2   | 7 | 8 | 9 | \n"
     ]
    }
   ],
   "source": [
    "# insert your code here\n",
    "def display_table(table):\n",
    "    for column in range(len(table) + 1):\n",
    "        print(str(column)+\"\\t\", end ='| ')\n",
    "    print('\\n'+'-------------------')\n",
    "\n",
    "    for rowNum, row in enumerate(table):\n",
    "        print(str(rowNum) + \"   | \", end='')\n",
    "        for item in row:\n",
    "            print(str(item), end=' | ')\n",
    "        print()\n",
    "\n",
    "# Example usage:\n",
    "sampleTable = [[1, 2, 3], [4, 5, 6], [7, 8, 9]]\n",
    "display_table(sampleTable)\n"
   ]
  },
  {
   "cell_type": "markdown",
   "metadata": {
    "collapsed": false
   },
   "source": [
    "#### Exercise 6.9"
   ]
  },
  {
   "cell_type": "code",
   "execution_count": 39,
   "metadata": {
    "collapsed": false,
    "ExecuteTime": {
     "end_time": "2023-09-03T16:17:39.897039700Z",
     "start_time": "2023-09-03T16:17:39.777337Z"
    }
   },
   "outputs": [
    {
     "name": "stdout",
     "output_type": "stream",
     "text": [
      "True\n",
      "False\n",
      "Canada | ca\n",
      "United States | us\n",
      "Mexico | mx\n",
      "{'Canada': 'ca', 'United States': 'us', 'Mexico': 'mx', 'Sweden': 'sw'}\n",
      "{'Canada': 'ca', 'United States': 'us', 'Mexico': 'mx', 'Sweden': 'se'}\n",
      "{'ca': 'Canada', 'us': 'United States', 'mx': 'Mexico', 'se': 'Sweden'}\n",
      "{'CA': 'Canada', 'US': 'United States', 'MX': 'Mexico', 'SE': 'Sweden'}\n"
     ]
    }
   ],
   "source": [
    "# insert your code here\n",
    "tlds = {'Canada': 'ca', 'United States': 'us','Mexico': 'mx'}\n",
    "\n",
    "# a) Check whether the dictionary contains the key 'Canada'.\n",
    "print('Canada' in tlds)\n",
    "\n",
    "# b) Check whether the dictionary contains the key 'France'.\n",
    "print('France' in tlds)\n",
    "\n",
    "# c) Iterate through the key–value pairs and display them in two-column format.\n",
    "for i in tlds:\n",
    "    print(i + \" | \" + tlds[i])\n",
    "    \n",
    "# d) Add the key–value pair 'Sweden' and 'sw' (which is incorrect).\n",
    "tlds.update({'Sweden': 'sw'})\n",
    "print(tlds)\n",
    "\n",
    "# e) Update the value for the key 'Sweden' to 'se'.\n",
    "tlds.update({'Sweden': 'se'})\n",
    "print(tlds)\n",
    "\n",
    "# f) Use a dictionary comprehension to reverse the keys and values.\n",
    "tlds = {value: key for key, value in tlds.items()}\n",
    "print(tlds)\n",
    "\n",
    "# g) With the result of part (f), use a dictionary comprehension to convert the country names to all uppercase letters.\n",
    "tlds = {key.upper(): value for key, value in tlds.items()}\n",
    "print(tlds)\n"
   ]
  },
  {
   "cell_type": "markdown",
   "metadata": {
    "collapsed": false
   },
   "source": [
    "#### Exercise 6.11"
   ]
  },
  {
   "cell_type": "code",
   "execution_count": 10,
   "metadata": {
    "collapsed": false,
    "ExecuteTime": {
     "end_time": "2023-09-06T20:23:10.808426700Z",
     "start_time": "2023-09-06T20:22:57.086143100Z"
    }
   },
   "outputs": [
    {
     "name": "stdout",
     "output_type": "stream",
     "text": [
      "Rolls |      Wins |       Losses |     Win % |      Loss % |     Cumulative Win % of Games Resolved |     Cumulative Loss % of Games Resolved\n",
      "--------------------------------------------------------------------------------\n",
      "1         221424    111236    22.14     11.12     22.14               11.12\n",
      "2         77583     111043    7.758     11.10     29.90               22.22\n",
      "3         55261     79836     5.526     7.983     35.42               30.21\n",
      "4         39273     57134     3.927     5.713     39.35               35.92\n",
      "5         28187     40950     2.818     4.095     42.17               40.01\n",
      "6         20237     29502     2.023     2.950     44.19               42.97\n",
      "7         14487     21466     1.448     2.146     45.64               45.11\n",
      "8         10041     15290     1.004     1.529     46.64               46.64\n",
      "9         7443      11241     0.744     1.124     47.39               47.76\n",
      "10        5422      8072      0.542     0.807     47.93               48.57\n",
      "11        3814      5854      0.381     0.585     48.31               49.16\n",
      "12        2738      4227      0.273     0.422     48.59               49.58\n",
      "13        1964      3132      0.196     0.313     48.78               49.89\n",
      "14        1364      2177      0.136     0.217     48.92               50.11\n",
      "15        1028      1588      0.102     0.158     49.02               50.27\n",
      "16        722       1127      0.072     0.112     49.09               50.38\n",
      "17        540       893       0.054     0.089     49.15               50.47\n",
      "18        394       616       0.039     0.061     49.19               50.53\n",
      "19        260       462       0.026     0.046     49.21               50.58\n",
      "20        210       310       0.021     0.031     49.23               50.61\n",
      "21        156       234       0.015     0.023     49.25               50.63\n",
      "22        106       183       0.010     0.018     49.26               50.65\n",
      "23        70        137       0.006     0.013     49.27               50.67\n",
      "24        76        96        0.007     0.009     49.28               50.68\n",
      "25        33        66        0.003     0.006     49.28               50.68\n",
      "26        25        54        0.002     0.005     49.28               50.69\n",
      "27        16        50        0.001     0.005     49.28               50.69\n",
      "28        19        23        0.001     0.002     49.28               50.69\n",
      "29        10        22        0.001     0.002     49.29               50.70\n",
      "30        1         11        9.999     0.001     49.29               50.70\n",
      "31        4         5         0.000     0.000     49.29               50.70\n",
      "32        5         7         0.000     0.000     49.29               50.70\n",
      "33        4         7         0.000     0.000     49.29               50.70\n",
      "34        3         3         0.000     0.000     49.29               50.70\n",
      "35        3         4         0.000     0.000     49.29               50.70\n",
      "36        3         4         0.000     0.000     49.29               50.70\n",
      "37        2         2         0.000     0.000     49.29               50.70\n",
      "38        1         2         9.999     0.000     49.29               50.70\n",
      "39        1         0         9.999     0.0       49.29               50.70\n",
      "40        0         1         0.0       9.999     49.29               50.70\n",
      "41        0         0         0.0       0.0       49.29               50.70\n",
      "42        0         0         0.0       0.0       49.29               50.70\n",
      "43        0         0         0.0       0.0       49.29               50.70\n",
      "44        0         0         0.0       0.0       49.29               50.70\n",
      "45        0         0         0.0       0.0       49.29               50.70\n",
      "46        0         0         0.0       0.0       49.29               50.70\n",
      "47        0         0         0.0       0.0       49.29               50.70\n",
      "48        0         0         0.0       0.0       49.29               50.70\n",
      "49        0         1         0.0       9.999     49.29               50.70\n",
      "50        0         0         0.0       0.0       49.29               50.70\n",
      "51        0         0         0.0       0.0       49.29               50.70\n",
      "52        0         1         0.0       9.999     49.29               50.70\n",
      "53        0         0         0.0       0.0       49.29               50.70\n",
      "54        0         0         0.0       0.0       49.29               50.70\n",
      "55        0         0         0.0       0.0       49.29               50.70\n",
      "56        0         0         0.0       0.0       49.29               50.70\n",
      "57        0         0         0.0       0.0       49.29               50.70\n",
      "58        0         0         0.0       0.0       49.29               50.70\n",
      "59        0         0         0.0       0.0       49.29               50.70\n",
      "60        0         0         0.0       0.0       49.29               50.70\n",
      "61        0         0         0.0       0.0       49.29               50.70\n",
      "62        0         0         0.0       0.0       49.29               50.70\n",
      "63        0         0         0.0       0.0       49.29               50.70\n",
      "64        1         0         9.999     0.0       49.29               50.70\n",
      "\n",
      "Total games played: 1000000\n",
      "Total games won: 492931 (49.29%)\n",
      "Total games lost: 507069 (50.70%)\n"
     ]
    }
   ],
   "source": [
    "# insert your code here\n",
    "\n",
    "#PG 290/182\n",
    "\n",
    "\"\"\"Simulating the dice game Craps.\"\"\"\n",
    "from random import *\n",
    "\n",
    "wins, losses = {}, {}\n",
    "\n",
    "def roll_dice():\n",
    "    \"\"\"Roll two dice and return their face values as a tuple.\"\"\"\n",
    "    die1 = randrange(1, 7)\n",
    "    die2 = randrange(1, 7)\n",
    "    return (die1, die2)\n",
    "\n",
    "# Simulate 1,000,000 games of craps\n",
    "for roll in range(1000000):\n",
    "    rolls = 0\n",
    "    die_values = roll_dice() # first roll\n",
    "    rolls = rolls + 1\n",
    "    sum_of_dice = sum(die_values)\n",
    "\n",
    "    if sum_of_dice in (7, 11): # win\n",
    "        game_status = 'WON'\n",
    "    elif sum_of_dice in (2, 3, 12): # lose\n",
    "        game_status = 'LOST'\n",
    "    else: # remember point\n",
    "        game_status = 'CONTINUE'\n",
    "        my_point = sum_of_dice\n",
    "\n",
    "    # continue rolling until player wins or loses\n",
    "    while game_status == 'CONTINUE':\n",
    "        die_values = roll_dice()\n",
    "        rolls = rolls + 1\n",
    "        sum_of_dice = sum(die_values)\n",
    "\n",
    "        if sum_of_dice == my_point: # win by making point\n",
    "            game_status = 'WON'\n",
    "        elif sum_of_dice == 7: # lose by rolling 7\n",
    "            game_status = 'LOST'\n",
    "\n",
    "    # Update wins or losses dictionary\n",
    "    if game_status == 'WON':\n",
    "        wins[rolls] = wins.get(rolls, 0) + 1\n",
    "    else:\n",
    "        losses[rolls] = losses.get(rolls, 0) + 1\n",
    "\n",
    "# Display summary of results\n",
    "games = 1000000\n",
    "totalWins, totalLosses = sum(wins.values()), sum(losses.values())\n",
    "cumWins, cumLosses = 0, 0\n",
    "\n",
    "print(\"Rolls | \" + \" \" * (10 - len(\"Rolls\")) + \"Wins | \" + \" \" * (10 - len(\"Wins\")) + \"Losses | \" + \" \" * (10 - len(\"Losses\")) + \"Win % | \" + \" \" * (10 - len(\"Win %\")) + \"Loss % | \" + \" \" * (10 - len(\"Loss %\")) + \"Cumulative Win % of Games Resolved | \" + \" \" * (20 - len(\"Cumulative Win %\")) + \"Cumulative Loss % of Games Resolved\")\n",
    "print(\"--------------------------------------------------------------------------------\")\n",
    "\n",
    "for roll in range(1, max(max(wins), max(losses)) + 1):\n",
    "    winRoll = wins.get(roll, 0)\n",
    "    lossRoll = losses.get(roll, 0)\n",
    "    cumWins += winRoll\n",
    "    cumLosses += lossRoll\n",
    "\n",
    "    print(str(roll) + \" \" * (10 - len(str(roll))) + str(winRoll) + \" \" * (10 - len(str(winRoll))) + str(lossRoll) + \" \" * (10 - len(str(lossRoll))) + str(winRoll/games*100)[:5] + \" \" * (10 - len(str(winRoll/games*100)[:5])) + str(lossRoll/games*100)[:5] + \" \" * (10 - len(str(lossRoll/games*100)[:5])) + str(cumWins/games*100)[:5] + \" \" * (20 - len(str(cumWins/games*100)[:5])) + str(cumLosses/games*100)[:5])\n",
    "\n",
    "print(\"\\nTotal games played: \" + str(games))\n",
    "print(\"Total games won: \" + str(totalWins) + \" (\" + str(totalWins/games*100)[:5] + \"%)\")\n",
    "print(\"Total games lost: \" + str(totalLosses) + \" (\" + str(totalLosses/games*100)[:5] + \"%)\")\n",
    "\n"
   ]
  },
  {
   "cell_type": "markdown",
   "metadata": {
    "collapsed": false
   },
   "source": [
    "#### Exercise\n",
    "\n",
    "![](blackjack.jpg)\n",
    "\n",
    "The card game Blackjack uses a standard 52 card playing deck.  Cards 2 - 10 have a value equal to their face value.  Jacks, Queens, and Kings have a value of 10.  Aces are worth either 1 or 11.\n",
    "\n",
    "In casino Blackjack, the dealer starts with two cards and must continue to draw cards (called \"take a hit\") until reaching a total of 17 or more.  If the dealer goes over 21, we say the dealer \"busted\" and any players with live hands win.  An ace in the dealer's hand is worth 11 when it makes the total between 17 and 21.   \n",
    "\n",
    "Here are some sample hands with their totals:\n",
    "\n",
    "* Ace, Queen: 21\n",
    "* Jack, Eight: 18\n",
    "* Ace, Ace, Ten, Five: 17 \n",
    "* Five, Five, Ace: 21\n",
    "* Ace, Six: 17\n",
    "* Ace, Ace, Ten, King: 22 (Busted!)\n",
    "\n",
    "Finish the `blackjack_dealer` function below to implement a casino dealer.   The function should return the value of the dealer's hand after the dealer's turn is complete.  The dealer's turn is complete when his/her total is greater than or equal to 17. "
   ]
  },
  {
   "cell_type": "code",
   "execution_count": 15,
   "metadata": {
    "collapsed": false,
    "ExecuteTime": {
     "end_time": "2023-09-06T20:28:30.113754400Z",
     "start_time": "2023-09-06T20:28:30.064054300Z"
    }
   },
   "outputs": [
    {
     "name": "stdout",
     "output_type": "stream",
     "text": [
      "20\n"
     ]
    }
   ],
   "source": [
    "import itertools\n",
    "import random\n",
    "\n",
    "def shuffle_deck():\n",
    "    \"\"\"creates a standard 52 card deck and shuffles it\"\"\"\n",
    "    face = (\"Ace\",\"Two\",\"Three\",\"Four\",\"Five\",\"Six\",\"Seven\",\"Eight\",\"Nine\",\"Ten\",\"Jack\",\"Queen\", \"King\")\n",
    "    suit = (\"Hearts\", \"Diamonds\", \"Clubs\", \"Spades\")\n",
    "\n",
    "    # create the deck\n",
    "    deck = list(itertools.product(face,suit))\n",
    "\n",
    "    # shuffle the deck\n",
    "    deck = random.sample(deck, 52)\n",
    "    return(deck)\n",
    "\n",
    "def get_handvalue(hand):\n",
    "    \"\"\"gets the total of a blackjack hand\"\"\"\n",
    "\n",
    "    # a dictionary of card values\n",
    "    card_values = {\"Ace\": 1, \"Two\": 2, \"Three\": 3, \"Four\": 4, \"Five\": 5, \"Six\": 6, \"Seven\": 7,\n",
    "                   \"Eight\": 8, \"Nine\": 9, \"Ten\": 10, \"Jack\": 10, \"Queen\": 10, \"King\": 10}\n",
    "\n",
    "    total = 0\n",
    "    has_ace = False #flag for whether hand contains an ace\n",
    "\n",
    "    # add cards to the total\n",
    "    for card in hand:\n",
    "        face, suit = card\n",
    "        total += card_values[face]\n",
    "        if face == \"Ace\":\n",
    "            has_ace = True\n",
    "\n",
    "    # the ace is an 11 if the total is less than 12\n",
    "    if total < 12 and has_ace:\n",
    "        total += 10\n",
    "\n",
    "    return total\n",
    "\n",
    "def blackjack_dealer():\n",
    "    \"\"\"simulates a casino blackjack dealer and returns the sum of the dealer's cards or BUST if over 21\"\"\"\n",
    "\n",
    "    # shuffle the deck  \n",
    "    deck = shuffle_deck()\n",
    "\n",
    "    # deal the first two cards\n",
    "    dealerHand = [deck.pop(), deck.pop()]\n",
    "\n",
    "    # compute dealer total\n",
    "    total = get_handvalue(dealerHand)\n",
    "\n",
    "    # continue dealing until total is greater or equal to 17\n",
    "    while total < 17:\n",
    "        dealerHand.append(deck.pop())\n",
    "        total = get_handvalue(dealerHand)\n",
    "\n",
    "    if total > 21:\n",
    "        return \"BUSTED\"\n",
    "\n",
    "    return total\n",
    "\n",
    "# deal the cards\n",
    "print(blackjack_dealer())\n"
   ]
  },
  {
   "cell_type": "markdown",
   "metadata": {
    "collapsed": false
   },
   "source": [
    "#### Exercise\n",
    "\n",
    "Using the `blackjack_dealer` function, simulate 10,000 dealer hands.  Tally the results of the simulations in a dictionary.  Report your results in a table similar to the one below.  The percent column indicates the percent of the 10,000 simulations resulting in each total.\n",
    "\n",
    "Total    | Percent\n",
    "----------|-----------\n",
    "17 |\n",
    "18 |\n",
    "19 |\n",
    "20 |\n",
    "21 |\n",
    "Bust |\n",
    "\n",
    "\n"
   ]
  },
  {
   "cell_type": "code",
   "execution_count": 30,
   "metadata": {
    "collapsed": false,
    "ExecuteTime": {
     "end_time": "2023-09-06T20:33:57.284754200Z",
     "start_time": "2023-09-06T20:33:55.987583300Z"
    }
   },
   "outputs": [
    {
     "name": "stdout",
     "output_type": "stream",
     "text": [
      "   Total  |  Percent   \n",
      "----------|-----------\n",
      "17        |   14.84\n",
      "18        |   13.91\n",
      "19        |   13.05\n",
      "20        |   17.68\n",
      "21        |   12.35\n",
      "BUSTED    |   28.17\n"
     ]
    }
   ],
   "source": [
    "# insert your code here\n",
    "# Simulate 10,000 dealer hands\n",
    "results = {\"17\": 0, \"18\": 0, \"19\": 0, \"20\": 0, \"21\": 0, \"BUSTED\": 0}\n",
    "simulations = 10000\n",
    "\n",
    "for i in range(simulations):\n",
    "    result = blackjack_dealer()\n",
    "    if result == \"BUSTED\":\n",
    "        results[\"BUSTED\"] += 1\n",
    "    else:\n",
    "        results[str(result)] += 1\n",
    "\n",
    "# Report the results in a table\n",
    "print(\"   Total  |  Percent   \")\n",
    "print(\"----------|-----------\")\n",
    "for total, count in results.items():\n",
    "    percent = (count / simulations) * 100\n",
    "    print(str(total) + \" \" * (8 - len(str(total))) + \"  |   \" + str(round(percent, 2)))\n",
    "\n"
   ]
  },
  {
   "cell_type": "code",
   "execution_count": null,
   "outputs": [],
   "source": [],
   "metadata": {
    "collapsed": false
   }
  }
 ],
 "metadata": {
  "kernelspec": {
   "argv": [
    "/usr/bin/python3",
    "-m",
    "ipykernel",
    "--HistoryManager.enabled=False",
    "--matplotlib=inline",
    "-c",
    "%config InlineBackend.figure_formats = set(['retina'])\nimport matplotlib; matplotlib.rcParams['figure.figsize'] = (12, 7)",
    "-f",
    "{connection_file}"
   ],
   "display_name": "Python 3 (system-wide)",
   "env": {},
   "language": "python",
   "metadata": {
    "cocalc": {
     "description": "Python 3 programming language",
     "priority": 100,
     "url": "https://www.python.org/"
    }
   },
   "name": "python3",
   "resource_dir": "/ext/jupyter/kernels/python3"
  },
  "language_info": {
   "codemirror_mode": {
    "name": "ipython",
    "version": 3
   },
   "file_extension": ".py",
   "mimetype": "text/x-python",
   "name": "python",
   "nbconvert_exporter": "python",
   "pygments_lexer": "ipython3",
   "version": "3.10.12"
  }
 },
 "nbformat": 4,
 "nbformat_minor": 4
}
