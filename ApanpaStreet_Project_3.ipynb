{
 "cells": [
  {
   "cell_type": "code",
   "execution_count": 7,
   "id": "initial_id",
   "metadata": {
    "collapsed": true,
    "ExecuteTime": {
     "end_time": "2023-11-19T07:56:19.403437100Z",
     "start_time": "2023-11-19T07:56:19.384022200Z"
    }
   },
   "outputs": [],
   "source": [
    "import numpy as np\n",
    "import matplotlib.pyplot as plt\n",
    "\n",
    "\n",
    "from Server import Server\n",
    "from Customer import Customer\n",
    "from Event_List import Event_List\n",
    "\n",
    "\n"
   ]
  },
  {
   "cell_type": "code",
   "execution_count": 8,
   "outputs": [],
   "source": [
    "def create_customer_Arrival(arrival_rate, max_time):\n",
    "    '''\n",
    "    Creates an Event_List object of customers' scheduled arrivals\n",
    "    Inputs:\n",
    "        arrival_rate - how fast customers arrive (using the exponential distribution)\n",
    "        max_time - for how long customers arrive\n",
    "    Outputs:\n",
    "        Event_List of customers' scheduled arrivals\n",
    "    '''\n",
    "    np.random.seed(220)\n",
    "    t = 0\n",
    "    cust = 1\n",
    "    arriv = 0\n",
    "    customerlist = Event_List()\n",
    "    customerlist.addEvent(arriv,Customer(arriv,cust),\"Arrival\")\n",
    "    while arriv <= max_time:\n",
    "        cust+=1\n",
    "        rand_exp = np.random.exponential(arrival_rate,1)[0]\n",
    "        arriv = rand_exp+t\n",
    "        t+= rand_exp\n",
    "        customerlist.addEvent(arriv,Customer(arriv,cust),\"Arrival\")\n",
    "\n",
    "    return customerlist\n"
   ],
   "metadata": {
    "collapsed": false,
    "ExecuteTime": {
     "end_time": "2023-11-19T07:56:21.932965800Z",
     "start_time": "2023-11-19T07:56:21.908881800Z"
    }
   },
   "id": "829422fdf4309340"
  },
  {
   "cell_type": "code",
   "execution_count": 9,
   "outputs": [],
   "source": [
    "def is_available(server_lst):\n",
    "    \"\"\"\n",
    "    Takes in a list of servers and outputs a bool determining whether a server is available and/or the index of that server in the list\n",
    "    input: server_lst- a list of server objects\n",
    "    output:  [False ] or [True, index of server]\n",
    "\n",
    "    \"\"\"\n",
    "\n",
    "    for i, server in enumerate(server_lst):\n",
    "        if not server.isBusy():\n",
    "            return [True, i]\n",
    "    else:\n",
    "        return [False]\n",
    "\n"
   ],
   "metadata": {
    "collapsed": false,
    "ExecuteTime": {
     "end_time": "2023-11-19T07:56:22.733768700Z",
     "start_time": "2023-11-19T07:56:22.715265300Z"
    }
   },
   "id": "79d0d0957d95313e"
  },
  {
   "cell_type": "code",
   "execution_count": 10,
   "outputs": [],
   "source": [
    "def find_customer_server(server_lst,customer):\n",
    "    '''\n",
    "    Takes in a list of server objects and a customer object\n",
    "    input: server_lst - list of server objects\n",
    "           customer - customer object\n",
    "    output: Server object that contains the server\n",
    "\n",
    "    '''\n",
    "\n",
    "\n",
    "    for server in server_lst:\n",
    "        if customer.number == server.customer_number:\n",
    "            return server\n"
   ],
   "metadata": {
    "collapsed": false,
    "ExecuteTime": {
     "end_time": "2023-11-19T07:56:23.225914400Z",
     "start_time": "2023-11-19T07:56:23.195634900Z"
    }
   },
   "id": "39abf2b9c25e0a43"
  },
  {
   "cell_type": "code",
   "execution_count": 11,
   "outputs": [],
   "source": [
    "def simulateShop(filename, num_servers, server_rates):\n",
    "    '''\n",
    "    Writes a simulation of a queue to specified outfile\n",
    "    given a specified number of servers and corresponding\n",
    "    server rates.\n",
    "    Inputs:\n",
    "        filename - string that you want to output file to be called\n",
    "        num_servers - number of servers in the \"shop\"\n",
    "        server_rates - service rates for the servers\n",
    "    Outputs:\n",
    "        No output, writes simulation to file\n",
    "    '''\n",
    "    outfile = open(filename+\".txt\",\"w+\")\n",
    "    Queue = Event_List()\n",
    "    customer_event = create_customer_Arrival(5,100)\n",
    "\n",
    "    server_lst = []\n",
    "    for x in range(num_servers):\n",
    "        server_lst.append(Server(x+1,server_rates[x]))\n",
    "    while len(customer_event):\n",
    "\n",
    "        event_time, customer, event = customer_event.next()\n",
    "\n",
    "        if event == \"Arrival\":\n",
    "            available = is_available(sorted(server_lst))\n",
    "\n",
    "            if available[0]:\n",
    "                server = server_lst[available[1]]\n",
    "                end_time = server.serve(customer,event_time)\n",
    "                customer_event.addEvent(end_time,customer,\"Departure\")\n",
    "            elif not available[0]:\n",
    "                Queue.addEvent(event_time , customer, event)\n",
    "        elif event == \"Departure\":\n",
    "            server = find_customer_server(server_lst,customer)\n",
    "            if server is not None:\n",
    "                server.freeUp()\n",
    "                if len(Queue):\n",
    "                    event_time , customer, event = Queue.next()\n",
    "                    available = is_available(sorted(server_lst))\n",
    "                    if available[0]:\n",
    "                        server = server_lst[available[1]]\n",
    "                        end_time = server.serve(customer,event_time)\n",
    "                        customer_event.addEvent(end_time,customer,\"Departure\")\n",
    "        print(customer_event, file= outfile)\n",
    "        for x in server_lst:\n",
    "            print(x, file = outfile)\n",
    "        print(\"=====Customer Line ===============\\n\", file = outfile)\n",
    "        if event_time >=100:\n",
    "            break\n",
    "\n",
    "    outfile.close()\n"
   ],
   "metadata": {
    "collapsed": false,
    "ExecuteTime": {
     "end_time": "2023-11-19T07:56:23.959114900Z",
     "start_time": "2023-11-19T07:56:23.920279900Z"
    }
   },
   "id": "310fc6a971bb72e6"
  },
  {
   "cell_type": "code",
   "execution_count": 12,
   "outputs": [
    {
     "name": "stdout",
     "output_type": "stream",
     "text": [
      "Queue simulation created as a file!\n"
     ]
    },
    {
     "ename": "NameError",
     "evalue": "name 'np' is not defined",
     "output_type": "error",
     "traceback": [
      "\u001B[1;31m---------------------------------------------------------------------------\u001B[0m",
      "\u001B[1;31mNameError\u001B[0m                                 Traceback (most recent call last)",
      "Cell \u001B[1;32mIn[12], line 8\u001B[0m\n\u001B[0;32m      6\u001B[0m     server_rates[i] \u001B[38;5;241m=\u001B[39m \u001B[38;5;28mint\u001B[39m(\u001B[38;5;28minput\u001B[39m(\u001B[38;5;124mf\u001B[39m\u001B[38;5;124m\"\u001B[39m\u001B[38;5;124mWhat rate do you want server \u001B[39m\u001B[38;5;132;01m{\u001B[39;00mi\u001B[38;5;241m+\u001B[39m\u001B[38;5;241m1\u001B[39m\u001B[38;5;132;01m}\u001B[39;00m\u001B[38;5;124m to work at?\u001B[39m\u001B[38;5;124m\"\u001B[39m))\n\u001B[0;32m      7\u001B[0m \u001B[38;5;28mprint\u001B[39m(\u001B[38;5;124m\"\u001B[39m\u001B[38;5;124mQueue simulation created as a file!\u001B[39m\u001B[38;5;124m\"\u001B[39m)\n\u001B[1;32m----> 8\u001B[0m \u001B[43msimulateShop\u001B[49m\u001B[43m(\u001B[49m\u001B[43mfilename\u001B[49m\u001B[43m,\u001B[49m\u001B[43m \u001B[49m\u001B[43mnum_servers\u001B[49m\u001B[43m,\u001B[49m\u001B[43m \u001B[49m\u001B[43mserver_rates\u001B[49m\u001B[43m)\u001B[49m\n",
      "Cell \u001B[1;32mIn[11], line 29\u001B[0m, in \u001B[0;36msimulateShop\u001B[1;34m(filename, num_servers, server_rates)\u001B[0m\n\u001B[0;32m     27\u001B[0m \u001B[38;5;28;01mif\u001B[39;00m available[\u001B[38;5;241m0\u001B[39m]:\n\u001B[0;32m     28\u001B[0m     server \u001B[38;5;241m=\u001B[39m server_lst[available[\u001B[38;5;241m1\u001B[39m]]\n\u001B[1;32m---> 29\u001B[0m     end_time \u001B[38;5;241m=\u001B[39m \u001B[43mserver\u001B[49m\u001B[38;5;241;43m.\u001B[39;49m\u001B[43mserve\u001B[49m\u001B[43m(\u001B[49m\u001B[43mcustomer\u001B[49m\u001B[43m,\u001B[49m\u001B[43mevent_time\u001B[49m\u001B[43m)\u001B[49m\n\u001B[0;32m     30\u001B[0m     customer_event\u001B[38;5;241m.\u001B[39maddEvent(end_time,customer,\u001B[38;5;124m\"\u001B[39m\u001B[38;5;124mDeparture\u001B[39m\u001B[38;5;124m\"\u001B[39m)\n\u001B[0;32m     31\u001B[0m \u001B[38;5;28;01melif\u001B[39;00m \u001B[38;5;129;01mnot\u001B[39;00m available[\u001B[38;5;241m0\u001B[39m]:\n",
      "File \u001B[1;32m~\\OneDrive - West Point\\Documents\\Academic\\AY24 - 1\\MA486 - Mathematical Computation\\Projects\\Project 3\\ApanpaStreet_Project_3\\Server.py:52\u001B[0m, in \u001B[0;36mServer.serve\u001B[1;34m(self, cust, arrive_time)\u001B[0m\n\u001B[0;32m     50\u001B[0m \u001B[38;5;28mself\u001B[39m\u001B[38;5;241m.\u001B[39mcustomer \u001B[38;5;241m=\u001B[39m cust\n\u001B[0;32m     51\u001B[0m \u001B[38;5;28mself\u001B[39m\u001B[38;5;241m.\u001B[39mcustomer_number \u001B[38;5;241m=\u001B[39m cust\u001B[38;5;241m.\u001B[39mnumber\n\u001B[1;32m---> 52\u001B[0m \u001B[43mnp\u001B[49m\u001B[38;5;241m.\u001B[39mrandom\u001B[38;5;241m.\u001B[39mseed(\u001B[38;5;241m220\u001B[39m)\n\u001B[0;32m     53\u001B[0m time_to_serve \u001B[38;5;241m=\u001B[39m np\u001B[38;5;241m.\u001B[39mrandom\u001B[38;5;241m.\u001B[39mexponential(\u001B[38;5;28mself\u001B[39m\u001B[38;5;241m.\u001B[39mrate,\u001B[38;5;241m1\u001B[39m)[\u001B[38;5;241m0\u001B[39m]\n\u001B[0;32m     54\u001B[0m cust\u001B[38;5;241m.\u001B[39mDtime \u001B[38;5;241m=\u001B[39m cust\u001B[38;5;241m.\u001B[39mAtime \u001B[38;5;241m+\u001B[39m time_to_serve\n",
      "\u001B[1;31mNameError\u001B[0m: name 'np' is not defined"
     ]
    }
   ],
   "source": [
    "# Main script part\n",
    "filename = input(\"Outfile name?\")\n",
    "num_servers = int(input(\"How many servers do you want?\"))\n",
    "server_rates = [0 for i in range(num_servers)]\n",
    "for i in range(num_servers):\n",
    "    server_rates[i] = int(input(f\"What rate do you want server {i+1} to work at?\"))\n",
    "print(\"Queue simulation created as a file!\")\n",
    "simulateShop(filename, num_servers, server_rates)"
   ],
   "metadata": {
    "collapsed": false,
    "ExecuteTime": {
     "end_time": "2023-11-19T07:56:32.050445800Z",
     "start_time": "2023-11-19T07:56:24.750603500Z"
    }
   },
   "id": "f34beb15e53377f6"
  },
  {
   "cell_type": "code",
   "execution_count": null,
   "outputs": [],
   "source": [],
   "metadata": {
    "collapsed": false,
    "ExecuteTime": {
     "start_time": "2023-11-19T07:14:38.813311500Z"
    }
   },
   "id": "914a8f189a91519c"
  }
 ],
 "metadata": {
  "kernelspec": {
   "display_name": "Python 3",
   "language": "python",
   "name": "python3"
  },
  "language_info": {
   "codemirror_mode": {
    "name": "ipython",
    "version": 2
   },
   "file_extension": ".py",
   "mimetype": "text/x-python",
   "name": "python",
   "nbconvert_exporter": "python",
   "pygments_lexer": "ipython2",
   "version": "2.7.6"
  }
 },
 "nbformat": 4,
 "nbformat_minor": 5
}
